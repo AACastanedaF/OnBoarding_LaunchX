{
 "cells": [
  {
   "cell_type": "markdown",
   "metadata": {},
   "source": [
    "# Ejercicio: Uso de funciones en Python\n",
    "## Ejercicio 1: Trabajar con argumentos en funciones\n",
    "Los argumentos requeridos en las funciones se utilizan cuando las funciones necesitan que esos argumentos funcionen correctamente. En este ejercicio, construirás un informe de combustible que requiere información de varias ubicaciones de combustible en todo el cohete.\n",
    "\n",
    "Comienza por crear una función que necesite tres lecturas de combustible y devuelva un informe:"
   ]
  },
  {
   "cell_type": "code",
   "execution_count": 57,
   "metadata": {},
   "outputs": [],
   "source": [
    "# Función para leer 3 tanques de combustible y muestre el promedio\n",
    "def promedio_3tanques (tanque1, tanque2, tanque3):\n",
    "    promedio = (tanque1 + tanque2 + tanque3) / 3\n",
    "    return print(f\"\"\"\n",
    "    Reporte de tanques \n",
    "    {\"-\"*50} \n",
    "    Promedio de combustible en los tanques: {promedio} \n",
    "    Combustible en el tanque 1: {tanque1} \n",
    "    Combustible en el tanque 2: {tanque2} \n",
    "    Combustible en el tanque 3: {tanque3} \"\"\")\n"
   ]
  },
  {
   "cell_type": "markdown",
   "metadata": {},
   "source": [
    "Ahora que hemos definido la función de informes, vamos a comprobarlo. Para esta misión, los tanques no están llenos:\n"
   ]
  },
  {
   "cell_type": "code",
   "execution_count": 58,
   "metadata": {},
   "outputs": [
    {
     "name": "stdout",
     "output_type": "stream",
     "text": [
      "\n",
      "    Reporte de tanques \n",
      "    -------------------------------------------------- \n",
      "    Promedio de combustible en los tanques: 31.666666666666668 \n",
      "    Combustible en el tanque 1: 30 \n",
      "    Combustible en el tanque 2: 15 \n",
      "    Combustible en el tanque 3: 50 \n"
     ]
    }
   ],
   "source": [
    "# Llamamos a la función que genera el reporte print(funcion(tanque1, tanque2, tanque3))\n",
    "promedio_3tanques(30,15,50)"
   ]
  },
  {
   "cell_type": "markdown",
   "metadata": {},
   "source": [
    "En lugar de simplemente crear el informe, la función también está calculando el promedio. Mejora la legibilidad extrayendo el cálculo promedio de la función en una nueva función para que el promedio se pueda hacer de forma independiente:"
   ]
  },
  {
   "cell_type": "code",
   "execution_count": 59,
   "metadata": {},
   "outputs": [],
   "source": [
    "# Función promedio \n",
    "def promediot(tanques):\n",
    "    #numero de tanques\n",
    "    ntanques = len(tanques)\n",
    "    #suma de los tanques\n",
    "    total = sum(tanques)\n",
    "    #promedio\n",
    "    return total / ntanques"
   ]
  },
  {
   "cell_type": "markdown",
   "metadata": {},
   "source": [
    "Ahora actualiza la función de informes para llamando a la nueva función del promedio:"
   ]
  },
  {
   "cell_type": "code",
   "execution_count": 80,
   "metadata": {},
   "outputs": [],
   "source": [
    "# Actualiza la función\n",
    "def promedio_3tanques (tanque1, tanque2, tanque3):\n",
    "    return f\"\"\"\n",
    "    Reporte de tanques \n",
    "    {\"-\"*50} \n",
    "    Promedio de combustible en los tanques: {promediot([tanque1,tanque2,tanque3])} \n",
    "    Combustible en el tanque 1: {tanque1} \n",
    "    Combustible en el tanque 2: {tanque2} \n",
    "    Combustible en el tanque 3: {tanque3} \"\"\""
   ]
  },
  {
   "cell_type": "code",
   "execution_count": 81,
   "metadata": {},
   "outputs": [
    {
     "name": "stdout",
     "output_type": "stream",
     "text": [
      "\n",
      "    Reporte de tanques \n",
      "    -------------------------------------------------- \n",
      "    Promedio de combustible en los tanques: 10.0 \n",
      "    Combustible en el tanque 1: 10 \n",
      "    Combustible en el tanque 2: 10 \n",
      "    Combustible en el tanque 3: 10 \n"
     ]
    }
   ],
   "source": [
    "print(promedio_3tanques(10,10,10))"
   ]
  },
  {
   "cell_type": "markdown",
   "metadata": {},
   "source": [
    "# Ejercicio 2: Trabajo con argumentos de palabra clave\n",
    "## Ejercicio : Trabajar con argumentos de palabras clave en funciones\n",
    "En este ejercicio, construirás un informe de cohete que requiere varias piezas de información, como el tiempo hasta el destino, el combustible a la izquierda y el nombre del destino. Comienza por crear una función que creará un informe preciso de la misión:"
   ]
  },
  {
   "cell_type": "code",
   "execution_count": 76,
   "metadata": {},
   "outputs": [
    {
     "name": "stdout",
     "output_type": "stream",
     "text": [
      "\n",
      "    Informe de misión de misión \n",
      "    -------------------------------------------------- \n",
      "    Destino: Marte \n",
      "    Tiempo hasta el destino: 150 minutos \n",
      "    Total de combustible: 62012 galones\n"
     ]
    }
   ],
   "source": [
    "# Función con un informe preciso de la misión. Considera hora de prelanzamiento, tiempo de vuelo, destino, tanque externo y \n",
    "# tanque interno\n",
    "def informe2(prelanzamiento, timepo_vuelo, destino, tanque_ext, tanque_int):\n",
    "    return f\"\"\"\n",
    "    Informe de misión de misión \n",
    "    {\"-\"*50} \n",
    "    Destino: {destino} \n",
    "    Tiempo hasta el destino: {timepo_vuelo + prelanzamiento} minutos \n",
    "    Total de combustible: {tanque_ext + tanque_int} galones\"\"\"\n",
    "print(informe2(50,100,\"Marte\", 5440, 56572))    "
   ]
  },
  {
   "cell_type": "markdown",
   "metadata": {},
   "source": [
    "La función es problemática porque no se puede adaptar para minutos adicionales o tanques adicionales de combustible. Hazlo más flexible permitiendo cualquier número de pasos basados en el tiempo y cualquier número de tanques. En lugar de usar *args y **kwargs, aprovecha el hecho de que puedes usar cualquier nombre que desees. Asegurate que la función sea más legible mediante el uso de nombres de variables que están asociados con las entradas, como *minutes y **fuel_reservoirs:"
   ]
  },
  {
   "cell_type": "code",
   "execution_count": 82,
   "metadata": {},
   "outputs": [
    {
     "name": "stdout",
     "output_type": "stream",
     "text": [
      "\n",
      "    Informe de misión de misión \n",
      "    -------------------------------------------------- \n",
      "    Destino: Marte \n",
      "    Tiempo hasta el destino: 165 minutos \n",
      "    Total de combustible: 62112 galones\n"
     ]
    }
   ],
   "source": [
    "# Escribe tu nueva función de reporte considerando lo anterior\n",
    "def informe2(destino, *tiempos, **galones):\n",
    "    return f\"\"\"\n",
    "    Informe de misión de misión \n",
    "    {\"-\"*50} \n",
    "    Destino: {destino} \n",
    "    Tiempo hasta el destino: {sum(tiempos)} minutos \n",
    "    Total de combustible: {sum(galones.values())} galones\"\"\"\n",
    "print(informe2(\"Marte\",50,100,15,interno=5440,externo=56572,adicional=100))  "
   ]
  },
  {
   "cell_type": "markdown",
   "metadata": {},
   "source": [
    "Debido a que el combustible que queda en los tanques es específico de cada tanque, actualiza la función para usar el nombre de cada tanque en el informe:"
   ]
  },
  {
   "cell_type": "code",
   "execution_count": 89,
   "metadata": {},
   "outputs": [
    {
     "name": "stdout",
     "output_type": "stream",
     "text": [
      "\n",
      "    Informe de misión de misión \n",
      "    -------------------------------------------------- \n",
      "    Destino: Marte \n",
      "    Tiempo hasta el destino: 165 minutos \n",
      "    Total de combustible: 62112 galones \n",
      "      Combustible en el tanque interno: 5440 galones \n",
      "      Combustible en el tanque externo: 56572 galones \n",
      "      Combustible en el tanque adicional: 100 galones \n",
      "\n"
     ]
    }
   ],
   "source": [
    "# Escribe tu nueva función\n",
    "def informe2(destino, *tiempos, **galones):\n",
    "    informe_normal =  f\"\"\"\n",
    "    Informe de misión de misión \n",
    "    {\"-\"*50} \n",
    "    Destino: {destino} \n",
    "    Tiempo hasta el destino: {sum(tiempos)} minutos \n",
    "    Total de combustible: {sum(galones.values())} galones \\n\"\"\"\n",
    "    for nombre, gal in galones.items():\n",
    "        informe_normal = informe_normal + \\\n",
    "            f'      Combustible en el tanque {nombre}: {gal} galones \\n'\n",
    "    return informe_normal\n",
    "print(informe2(\"Marte\",50,100,15,interno=5440,externo=56572,adicional=100))  "
   ]
  }
 ],
 "metadata": {
  "interpreter": {
   "hash": "3fa251c4cdec13f650dbd593cfdb1acb24dae591f8bf73d67042153c3aaf8afb"
  },
  "kernelspec": {
   "display_name": "Python 3.10.2 ('env': venv)",
   "language": "python",
   "name": "python3"
  },
  "language_info": {
   "codemirror_mode": {
    "name": "ipython",
    "version": 3
   },
   "file_extension": ".py",
   "mimetype": "text/x-python",
   "name": "python",
   "nbconvert_exporter": "python",
   "pygments_lexer": "ipython3",
   "version": "3.10.2"
  },
  "orig_nbformat": 4
 },
 "nbformat": 4,
 "nbformat_minor": 2
}
